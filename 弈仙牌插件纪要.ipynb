{
 "cells": [
  {
   "cell_type": "markdown",
   "id": "b3647a17",
   "metadata": {},
   "source": [
    "基本定义：\n",
    "修为--training_point\n",
    "生命--health_point\n",
    "牌数(第一轮1张，第二轮2张，以此类推，最多8张--card_number\n",
    "套牌(列表)--card_set_list[]\n",
    "攻--attack\n",
    "防--armor\n",
    "灵气--mental_point\n",
    "卦象--lucky_point\n",
    "星力--astrological_attack\n",
    "星位--astrological_position\n",
    "再次行动--move_on\n",
    "后招--non_first_addition\n",
    "无法行动--stop\n",
    "比赛超时(超过80个轮次胜负未分)--timeout\n",
    "待续。。。"
   ]
  },
  {
   "cell_type": "markdown",
   "id": "1cba0241",
   "metadata": {},
   "source": [
    "要找到对应单卡一共5级索引，分别是卡牌图鉴，门派/副职/机缘/秘术，境界，卡牌名，卡牌等级。"
   ]
  },
  {
   "cell_type": "code",
   "execution_count": null,
   "id": "38cfa2ce",
   "metadata": {},
   "outputs": [],
   "source": [
    "# 卡牌图鉴\n",
    "top_category_dict = {'门派': 1, '副职': 2, '机缘': 3, '秘术': 4}\n",
    "# 门派\n",
    "martial_school_dict = {'云灵剑宗': 1, '七星阁': 2, '五行道盟': 3}\n",
    "# 副职\n",
    "profession_dict = {'炼丹师': 1, '符咒师': 2, '琴师': 3, '画师': 4}\n",
    "# 机缘\n",
    "coincidence_dict = {}\n",
    "# 秘术\n",
    "secret_dict = {}\n",
    "# 境界（对上述通用）\n",
    "level_dict = {'炼气期': 1, '筑基期': 2, '金丹期': 3, '元婴期': 4, '化神期': 5, '返虚期': 6}\n",
    "# 七星阁炼气期卡牌\n",
    "school_2_level_1_dict = {'斗转星移': 1, '星罗棋布': 2, '星弈·挡': 3, '星弈·夹': 4, '震卦': 5, '坤卦': 6,\n",
    "                         '巽卦': 7, '掌心雷': 8, '白鹤亮翅': 9, '揽雀尾': 10, '野马分鬃': 11, '藕断丝连': 12}\n",
    "# 待续。。。\n",
    "\n",
    "# 卡牌等级（对所有卡牌通用）\n",
    "card_grade_dict = {'1级': 1, '2级': 2, '3级': 3}"
   ]
  },
  {
   "cell_type": "markdown",
   "id": "87b656ef",
   "metadata": {},
   "source": [
    "使用上述字典的索引构筑卡牌数据库："
   ]
  },
  {
   "cell_type": "code",
   "execution_count": null,
   "id": "d44b6774",
   "metadata": {},
   "outputs": [],
   "source": [
    "all_card_database = []\n"
   ]
  },
  {
   "cell_type": "code",
   "execution_count": null,
   "id": "39482692",
   "metadata": {},
   "outputs": [],
   "source": [
    "class player:\n",
    "    def __init__(self, training_point, health_point, card_number=8, card_set_list, life_point=0):\n",
    "        self.training_point = training_point           # 修为\n",
    "        self.health_point = health_point               # 生命\n",
    "        self.card_number = card_number                 # 牌数\n",
    "        self.card_set_list = card_set_list             # 套牌\n",
    "        # 待补充：加攻、剑意、中毒、虚弱、破绽等\n",
    "        self.life_point = life_point                   # 命元(暂不考虑)\n",
    "class card:\n",
    "    def __init__(self, mental_point_cost=0, attack=0, armor=0):\n",
    "        self.mental_point_cost = mental_point_cost     # 需要灵气\n",
    "        self.attack = attack                           # 攻\n",
    "        self.armor = armor                             # 防"
   ]
  }
 ],
 "metadata": {
  "kernelspec": {
   "display_name": "Python 3 (ipykernel)",
   "language": "python",
   "name": "python3"
  },
  "language_info": {
   "codemirror_mode": {
    "name": "ipython",
    "version": 3
   },
   "file_extension": ".py",
   "mimetype": "text/x-python",
   "name": "python",
   "nbconvert_exporter": "python",
   "pygments_lexer": "ipython3",
   "version": "3.9.12"
  }
 },
 "nbformat": 4,
 "nbformat_minor": 5
}
